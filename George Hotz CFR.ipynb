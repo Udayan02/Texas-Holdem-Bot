{
 "cells": [
  {
   "cell_type": "code",
   "execution_count": 1,
   "id": "a44484e3-7921-471c-8547-4faee5aaa24b",
   "metadata": {},
   "outputs": [],
   "source": [
    "import os\n",
    "import numpy as np\n",
    "import random\n",
    "import matplotlib.pyplot as plt\n",
    "np.set_printoptions(suppress = True)"
   ]
  },
  {
   "cell_type": "code",
   "execution_count": 2,
   "id": "3ccf15d2-2909-4fa5-aa3a-1d8a1492bc96",
   "metadata": {},
   "outputs": [],
   "source": [
    "ROCK, PAPER, SCISSORS = 0, 1, 2\n",
    "NUM_ACTIONS = 3"
   ]
  },
  {
   "cell_type": "code",
   "execution_count": 3,
   "id": "7ccc8d59-dd2f-4cd3-8a54-bb371593da22",
   "metadata": {},
   "outputs": [],
   "source": [
    "def value(p1, p2):\n",
    "    # p1 and p2 are the strategies adopted (in this case, moves played) by player 1 and player 2 respectively\n",
    "    # the values p1 and p2 can take are 0, 1 and 2.\n",
    "    if p1 == p2: # draw\n",
    "        return 0\n",
    "    elif (p1 - 1) % NUM_ACTIONS == p2:\n",
    "        return 1\n",
    "    else:\n",
    "        return -1 # if it's neither a draw nor a win for p1, p2 wins"
   ]
  },
  {
   "cell_type": "code",
   "execution_count": 4,
   "id": "0c52481e-4f53-4fae-93a8-b416a308e55c",
   "metadata": {},
   "outputs": [],
   "source": [
    "def normalize(strategy):\n",
    "    # strategy is the mixed strategy which the player adopts in this game\n",
    "    strategy = np.copy(strategy)\n",
    "    normalizingSum = np.sum(strategy)\n",
    "    # normalize the strategy array if its valid\n",
    "    if normalizingSum > 0:\n",
    "        strategy /= normalizingSum\n",
    "    else: # create a uniform distribution over all possible moves\n",
    "        strategy = np.ones(strategy.shape[0])/strategy.shape[0]\n",
    "    return strategy"
   ]
  },
  {
   "cell_type": "code",
   "execution_count": 15,
   "id": "0c9e594b-71c8-4a60-9570-9535598eb68d",
   "metadata": {},
   "outputs": [],
   "source": [
    "def getStrategy(regretSum):\n",
    "    # keep only those regrets from the running regretSum which are positive, and clip the others to zero.\n",
    "    # so basically, don't touch the moves with 0 or negative regret, and improve the moves with positive regret\n",
    "    return normalize(np.maximum(regretSum, 0))"
   ]
  },
  {
   "cell_type": "code",
   "execution_count": 6,
   "id": "37092f37-1526-4929-a3b1-b16dc59bab09",
   "metadata": {},
   "outputs": [],
   "source": [
    "def getAction(strategy):\n",
    "    strategy = strategy / np.sum(strategy) # normalize the strategy\n",
    "    # the next lines simulates picking from that distribution. random.random() picks a float from Uniform(0, 1)\n",
    "    # np.cumsum gives the cdf of strategy, over 0, 1 and 2. the np.searchsorted gives the index where the\n",
    "    # randomly chosen number gets inserted according to its value relative to the value in np.cumsum(strategy)\n",
    "    # so this effectively boils down to choosing one of 0, 1 or 2 according to the given distribution\n",
    "    return np.searchsorted(np.cumsum(strategy), random.random())"
   ]
  },
  {
   "cell_type": "code",
   "execution_count": 7,
   "id": "adcb07d7-6545-49e8-bac9-8408f4dc8795",
   "metadata": {},
   "outputs": [],
   "source": [
    "def innertrain(regretSum, strategySum, oppStrategy):\n",
    "    strategy = getStrategy(regretSum) # given the current regret, get the strategy for the next round\n",
    "    strategySum += strategy # modify the strategySum using the current strategy\n",
    "    myAction = getAction(strategy) # player's action from the current strategy, say 0\n",
    "    \n",
    "    # ROCK, PAPER, SCISSORS\n",
    "    otherAction = getAction(oppStrategy) # opponent's action or move\n",
    "    actionUtility = np.zeros(NUM_ACTIONS) # utility gained for each action\n",
    "    actionUtility[otherAction] = 0 # zero utility for matching moves (draw)\n",
    "    actionUtility[(otherAction + 1) % NUM_ACTIONS] = 1 # positive utility for winning moves\n",
    "    actionUtility[(otherAction - 1) % NUM_ACTIONS] = -1 # negative utility for losing moves\n",
    "\n",
    "    # find the difference between utility for opponent move, and your move, and add this to the running regretSum.\n",
    "    # what this basically does is tell us the order in which it was preferable to play actions against the\n",
    "    # opponent's current strategy\n",
    "    # getAction(oppStrategy) = 1, say\n",
    "    # actionUtility = [-1, 0, 1]\n",
    "    # actionUtility[myAction] = actionUtility[0] = -1\n",
    "    # actionUtility - actionUtility[0] = [-1, 0, 1] - (-1) = [0, 1, 2]\n",
    "    # the above outcome shows that your strategy was the worst, and you regret not playing the better options\n",
    "    # it also shows the differences in utilities/payoffs you missed out on by not playing those other moves\n",
    "    # (applicable for the other moves too)\n",
    "    # myAction = 1 => actionUtility - actionUtility[1] = [-1, 0, 1] - 0 = [-1, 0, 1]\n",
    "    # the above outcome shows that your actions are unaffected by an indifferent outcome (a draw)\n",
    "    # playing 0 would have lost you 1 point, and 2 would have gained you 1 point\n",
    "    # myAction = 2 => actionUtility - actionUtility[2] = [-1, 0, 1] - 1 = [-2, -1, 0]\n",
    "    # this is the best response to the opponent's action, as 0 and 1 result in you losing payoff\n",
    "    # so you have negative regret, or in other words you don't regret not playing the other actions\n",
    "    # so you update your regretSum with the regrets or the payoff/utility differences you gained/missed out on\n",
    "    # this regretSum will influence your next strategy, and this is particularly useful and visible if the opponent\n",
    "    # plays a biased strategy, as covered in this example.\n",
    "    regretSum += actionUtility - actionUtility[myAction]\n",
    "    \n",
    "    return regretSum, strategySum"
   ]
  },
  {
   "cell_type": "code",
   "execution_count": 8,
   "id": "81fe3144-cccc-4b67-a35e-ec34da854592",
   "metadata": {},
   "outputs": [],
   "source": [
    "def train(iterations):\n",
    "    regretSum = np.zeros(NUM_ACTIONS) # running sum of regrets for each move\n",
    "    strategySum = np.zeros(NUM_ACTIONS) # running sum of player strategies\n",
    "    # basically an accumulation of all the strategies that the player has played and\n",
    "    # what it has finally converged to\n",
    "    oppStrategy = np.array([0.4, 0.3, 0.3]) # fixed opponent strategy\n",
    "    for i in range(iterations):\n",
    "        # for the given oppStrategy, you start with zero regretSum and zero strategySum.\n",
    "        # when you feed it for the first time, it starts with a uniform distribution as the strategy,\n",
    "        # which is used to update the strategySum. then an action is chosen from the uniform strategy\n",
    "        # and played to the opponent's action chosen from their strategy. the differences in utility,\n",
    "        # or regret, is added to the running regretSum.\n",
    "        # in the next iteration, the previous regret is used to form a new strategy, and this new\n",
    "        # strategy is used to update strategySum\n",
    "        # so basically strategySum has the past strategies. the current regretSum creates a new strategy\n",
    "        # which is used to generate a new regret, which then is added to regretSum and influences future\n",
    "        # strategies, and this cumulative effect of the strategy is stored in strategySum. i got how the\n",
    "        # regretSum works, but the strategySum's actual working is a black box. i'll have to dig deeper later on.\n",
    "        regretSum, strategySum = innertrain(regretSum, strategySum, oppStrategy)\n",
    "    return strategySum"
   ]
  },
  {
   "cell_type": "code",
   "execution_count": 9,
   "id": "1be8e4f2-29ce-4909-9a8b-18c63c42723e",
   "metadata": {},
   "outputs": [],
   "source": [
    "def train2p(oiterations, iterations):\n",
    "    strategySumP1 = np.zeros(NUM_ACTIONS) # initializing strategies\n",
    "    strategySumP2 = np.zeros(NUM_ACTIONS)\n",
    "\n",
    "    for j in range(oiterations):\n",
    "        oppStrategy = normalize(strategySumP2)\n",
    "        regretSumP1 = np.zeros(NUM_ACTIONS)\n",
    "        for i in range(iterations): # refine(?) P1's strategy given P2's initial strategy\n",
    "            regretSumP1, strategySumP1 = innertrain(regretSumP1, strategySumP1, oppStrategy)\n",
    "        \n",
    "        oppStrategy = normalize(strategySumP1)\n",
    "        regretSumP2 = np.zeros(NUM_ACTIONS)\n",
    "        for i in range(iterations): # use P1's new strategy to update P2's strategy\n",
    "            regretSumP2, strategySumP2 = innertrain(regretSumP2, strategySumP2, oppStrategy)\n",
    "\n",
    "        # print(normalize(strategySumP1), normalize(strategySumP2))\n",
    "    return strategySumP1, strategySumP2"
   ]
  },
  {
   "cell_type": "code",
   "execution_count": 10,
   "id": "dcb60c85-2800-4020-93c5-00201fd7bb3f",
   "metadata": {},
   "outputs": [
    {
     "name": "stdout",
     "output_type": "stream",
     "text": [
      "[6674.03384166 6759.69530559 6566.27085275] [8366.39455477 5714.69112807 5918.91431716]\n"
     ]
    },
    {
     "data": {
      "text/plain": [
       "(array([0.33370169, 0.33798477, 0.32831354]),\n",
       " array([0.41831973, 0.28573456, 0.29594572]))"
      ]
     },
     "execution_count": 10,
     "metadata": {},
     "output_type": "execute_result"
    }
   ],
   "source": [
    "s1, s2 = train2p(20, 1000)\n",
    "print(s1, s2)\n",
    "normalize(s1), normalize(s2)"
   ]
  },
  {
   "cell_type": "code",
   "execution_count": 13,
   "id": "4b1bc925-218e-46f1-b3aa-fe9b03f37bbf",
   "metadata": {},
   "outputs": [
    {
     "name": "stdout",
     "output_type": "stream",
     "text": [
      "[ 10.35039683 989.14960317   0.5       ]\n",
      "[0.0103504 0.9891496 0.0005   ]\n"
     ]
    },
    {
     "data": {
      "text/plain": [
       "([<matplotlib.lines.Line2D at 0x18fa318d670>], 9.355)"
      ]
     },
     "execution_count": 13,
     "metadata": {},
     "output_type": "execute_result"
    },
    {
     "data": {
      "image/png": "[encoded data removed]",
      "text/plain": [
       "<Figure size 640x480 with 1 Axes>"
      ]
     },
     "metadata": {},
     "output_type": "display_data"
    }
   ],
   "source": [
    "strategySum = train(1000)\n",
    "print(strategySum)\n",
    "strategy = normalize(strategySum)\n",
    "print(strategy)\n",
    "vvv = []\n",
    "for j in range(200):\n",
    "    vv = 0\n",
    "    for i in range(100):\n",
    "        myAction = getAction(strategy)\n",
    "        otherAction = getAction([0.4, 0.3, 0.3])\n",
    "        vv += value(myAction, otherAction)\n",
    "    vvv.append(vv)\n",
    "plt.plot(sorted(vvv)), np.mean(vvv)"
   ]
  },
  {
   "cell_type": "code",
   "execution_count": 14,
   "id": "411922c6-b069-44e7-85c9-57059c2765d7",
   "metadata": {},
   "outputs": [
    {
     "data": {
      "text/plain": [
       "([<matplotlib.lines.Line2D at 0x18fa30488e0>], -0.775)"
      ]
     },
     "execution_count": 14,
     "metadata": {},
     "output_type": "execute_result"
    },
    {
     "data": {
      "image/png": "[encoded data removed]",
      "text/plain": [
       "<Figure size 640x480 with 1 Axes>"
      ]
     },
     "metadata": {},
     "output_type": "display_data"
    }
   ],
   "source": [
    "strategy, oppStrategy = normalize(s1), normalize(s2)\n",
    "vvv = []\n",
    "for j in range(200):\n",
    "    vv = 0\n",
    "    for i in range(100):\n",
    "        myAction = getAction(strategy)\n",
    "        otherAction = getAction(oppStrategy)\n",
    "        vv += value(myAction, otherAction)\n",
    "    vvv.append(vv)\n",
    "plt.plot(sorted(vvv)), np.mean(vvv)"
   ]
  },
  {
   "cell_type": "code",
   "execution_count": null,
   "id": "6d7b6fae-88f3-407d-983c-8328029ddf67",
   "metadata": {},
   "outputs": [],
   "source": []
  }
 ],
 "metadata": {
  "kernelspec": {
   "display_name": "Python 3 (ipykernel)",
   "language": "python",
   "name": "python3"
  },
  "language_info": {
   "codemirror_mode": {
    "name": "ipython",
    "version": 3
   },
   "file_extension": ".py",
   "mimetype": "text/x-python",
   "name": "python",
   "nbconvert_exporter": "python",
   "pygments_lexer": "ipython3",
   "version": "3.9.18"
  }
 },
 "nbformat": 4,
 "nbformat_minor": 5
}
